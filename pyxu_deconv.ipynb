{
  "cells": [
    {
      "cell_type": "code",
      "source": [
        "!pip install pyxu[viz]@git+https://github.com/pyxu-org/pyxu.git@v3-dev\n",
        "!pip install scipy scikit-image"
      ],
      "metadata": {
        "id": "07p_f8rLZ9Y5"
      },
      "id": "07p_f8rLZ9Y5",
      "execution_count": null,
      "outputs": []
    },
    {
      "cell_type": "markdown",
      "id": "36ec1b51",
      "metadata": {
        "id": "36ec1b51"
      },
      "source": [
        "# Build Your Deconvolution Algorithm"
      ]
    },
    {
      "cell_type": "code",
      "execution_count": null,
      "id": "58c92591-3975-4cee-ad1c-e896ec707f4e",
      "metadata": {
        "id": "58c92591-3975-4cee-ad1c-e896ec707f4e"
      },
      "outputs": [],
      "source": [
        "import equinox as eqx\n",
        "import jax\n",
        "import jax.numpy as jnp\n",
        "jax.config.update('jax_platform_name', 'cpu')\n",
        "import matplotlib.pyplot as plt\n",
        "import numpy as np\n",
        "import numpy.typing as npt\n",
        "import optax\n",
        "from scipy.ndimage import gaussian_filter\n",
        "from skimage.draw import ellipse\n",
        "from skimage.util import random_noise\n",
        "\n",
        "import pyxu.abc as pxa\n",
        "import pyxu.math as pxm\n",
        "import pyxu.operator as pxo\n",
        "import pyxu.util as pxu"
      ]
    },
    {
      "cell_type": "code",
      "execution_count": null,
      "id": "bd5c5018",
      "metadata": {
        "id": "bd5c5018"
      },
      "outputs": [],
      "source": [
        "# A helper function to simplify plotting.\n",
        "\n",
        "def plot_image(ax, img: npt.ArrayLike, title: str = \"\"):\n",
        "    ax.imshow(img, cmap=\"gray\")\n",
        "    ax.set_title(title)\n",
        "    ax.axis(\"off\")"
      ]
    },
    {
      "cell_type": "markdown",
      "id": "f4bca2bf",
      "metadata": {
        "id": "f4bca2bf"
      },
      "source": [
        "## Ground truth generation\n",
        "\n",
        "Let's generate some ground truth microscopy data."
      ]
    },
    {
      "cell_type": "code",
      "execution_count": null,
      "id": "da1c8cbe",
      "metadata": {
        "id": "da1c8cbe"
      },
      "outputs": [],
      "source": [
        "# A helper function to generate cell-like images.\n",
        "\n",
        "def generate_textured_cells(\n",
        "    image_size: tuple[int, int],\n",
        "    num_cell: int,\n",
        "    cell_radius: tuple[int, int],\n",
        "):\n",
        "    \"\"\"\n",
        "    Generate 2D grayscale image with randomly oriented textured ellipses.\n",
        "\n",
        "    Parameters\n",
        "    ----------\n",
        "    image_size: tuple[int, int]\n",
        "        (height, width)\n",
        "    num_cell: int\n",
        "    cell_radius: tuple[int, int]\n",
        "        (min, max) cell radius in pixels\n",
        "\n",
        "    Returns\n",
        "    -------\n",
        "    img: ndarray\n",
        "        (height, width)\n",
        "    \"\"\"\n",
        "    rng = np.random.default_rng(0)\n",
        "\n",
        "    height, width = image_size\n",
        "    r_min, r_max = cell_radius\n",
        "\n",
        "    img = np.zeros((height, width))\n",
        "    for _ in range(num_cell):\n",
        "        # Random center within img bounds\n",
        "        center = (\n",
        "            rng.integers(r_max, height - r_max),\n",
        "            rng.integers(r_max, width - r_max),\n",
        "        )\n",
        "\n",
        "        # Random semi-axis lengths for the ellipse\n",
        "        radius = rng.integers(r_min, r_max, size=2)\n",
        "\n",
        "        # Random orientation angle [rad]\n",
        "        angle = rng.uniform(0, np.pi)\n",
        "\n",
        "        # Generate elliptical mask\n",
        "        rr, cc = ellipse(*center, *radius, shape=(height, width), rotation=angle)\n",
        "\n",
        "        # Generate textured pattern\n",
        "        texture = rng.uniform(0, 1, len(rr)) * 0.6 + 0.4\n",
        "\n",
        "        img[rr, cc] = texture\n",
        "\n",
        "    # Smoothen the img slightly to make cells look more natural\n",
        "    img = gaussian_filter(img, sigma=1)\n",
        "\n",
        "    # Normalize and scale to 8-bit grayscale\n",
        "    img = (img - img.min()) / np.ptp(img)\n",
        "    return img"
      ]
    },
    {
      "cell_type": "code",
      "execution_count": null,
      "id": "e3509183",
      "metadata": {
        "id": "e3509183"
      },
      "outputs": [],
      "source": [
        "# Generate an image with textured cells\n",
        "height, width = 512, 513\n",
        "img_gt = generate_textured_cells(\n",
        "    image_size=(height, width),\n",
        "    num_cell=20,\n",
        "    cell_radius=(20, 40),\n",
        ")\n",
        "\n",
        "# Display the image\n",
        "fig, ax = plt.subplots()\n",
        "plot_image(ax, img_gt, \"ground truth\")"
      ]
    },
    {
      "cell_type": "markdown",
      "id": "303018aa-d56e-4fa5-acb7-c2a76ffb891e",
      "metadata": {
        "id": "303018aa-d56e-4fa5-acb7-c2a76ffb891e"
      },
      "source": [
        "## Modeling the Microscope\n",
        "\n",
        "The microscope never sees the ground truth due to the physics of the acquisition system.\n",
        "Let's define the forward model describing the acquisition physics, i.e. what happens between the sample and the sensor plane.\n",
        "We'll assume a simple convolutional relationship between the sample and the sensor plane."
      ]
    },
    {
      "cell_type": "code",
      "execution_count": null,
      "id": "7f301214-34bf-4631-a303-ba7919432cf0",
      "metadata": {
        "id": "7f301214-34bf-4631-a303-ba7919432cf0"
      },
      "outputs": [],
      "source": [
        "# Modeling the acquisition system via Pyxu operators.\n",
        "\n",
        "class MicroscopeModel(pxa.LinearOperator):\n",
        "    psf: jax.Array  # the model's sole parameter\n",
        "    # point-spread function of the instrument\n",
        "\n",
        "    def __init__(self, psf: npt.ArrayLike):\n",
        "        self.dim_shape = pxu.ShapeStruct(psf.shape)\n",
        "        self.codim_shape = pxu.ShapeStruct(psf.shape)\n",
        "\n",
        "        self.psf = jnp.asarray(psf)\n",
        "\n",
        "    def apply(self, x: jax.Array) -> jax.Array:\n",
        "        return jax.scipy.signal.fftconvolve(x, self.psf, mode=\"same\")"
      ]
    },
    {
      "cell_type": "markdown",
      "id": "62f40dbb",
      "metadata": {
        "id": "62f40dbb"
      },
      "source": [
        "With a microscope model available, let's simulate what the microscope actually captures.\n",
        "For this we'll generate the impulse response of the system (point-spread function; PSF), then add shot noise."
      ]
    },
    {
      "cell_type": "code",
      "execution_count": null,
      "id": "6315c0f2-bf6e-4cc7-b8e7-431cb9665034",
      "metadata": {
        "id": "6315c0f2-bf6e-4cc7-b8e7-431cb9665034"
      },
      "outputs": [],
      "source": [
        "psf = np.zeros_like(img_gt)\n",
        "psf[height//2, width//2] = 1\n",
        "psf = gaussian_filter(psf, sigma=3)\n",
        "\n",
        "fig, ax = plt.subplots()\n",
        "plot_image(ax, psf, \"point spread function\")"
      ]
    },
    {
      "cell_type": "code",
      "execution_count": null,
      "id": "1fd134c3",
      "metadata": {
        "id": "1fd134c3"
      },
      "outputs": [],
      "source": [
        "# instantiate microscope model\n",
        "model = MicroscopeModel(psf)\n",
        "\n",
        "# apply model + add shot noise\n",
        "img = random_noise(image=model(img_gt), mode=\"poisson\").clip(0, None)\n",
        "\n",
        "fig, ax = plt.subplots(ncols=2, figsize=[10, 10])\n",
        "plot_image(ax[0], img_gt, \"ground truth\")\n",
        "plot_image(ax[1], img, \"microscope image\")"
      ]
    },
    {
      "cell_type": "markdown",
      "id": "0711ce9c",
      "metadata": {
        "id": "0711ce9c"
      },
      "source": [
        "## Deconvolution 1: Richardson-Lucy Method\n",
        "\n",
        "The Richardson-Lucy algorithm (RL) is an iterative scheme to deconvolve microscope images where the forward model is convolutional and noise is Poisson-distributed. It should work relatively well if the captured data actually follows this model."
      ]
    },
    {
      "cell_type": "code",
      "execution_count": null,
      "id": "ccb95abb",
      "metadata": {
        "id": "ccb95abb"
      },
      "outputs": [],
      "source": [
        "def rl_step(\n",
        "    u: jax.Array,\n",
        "    data: jax.Array,\n",
        "    model: MicroscopeModel,\n",
        ") -> jax.Array:\n",
        "    z = data / model(u)\n",
        "    u_next = model.adjoint(z) * u\n",
        "    return u_next\n",
        "\n",
        "\n",
        "u = model.adjoint(img)\n",
        "for i in range(100):\n",
        "    u_next = rl_step(u, img, model)\n",
        "    rel_err = pxo.L2Norm().apply(u_next - u) / pxo.L2Norm().apply(u)\n",
        "    u = u_next\n",
        "\n",
        "    if rel_err < 1e-3:\n",
        "        break\n",
        "img_rl = u\n",
        "\n",
        "fig, ax = plt.subplots(ncols=3, figsize=[15, 10])\n",
        "plot_image(ax[0], img, \"microscope image\")\n",
        "plot_image(ax[1], img_rl, f\"RL deconvolved ({i} iter)\")\n",
        "plot_image(ax[2], img_gt, \"ground truth\")\n"
      ]
    },
    {
      "cell_type": "markdown",
      "id": "2963ccf2",
      "metadata": {
        "id": "2963ccf2"
      },
      "source": [
        "The RL algorithm makes strong assumptions on the microscope model.\n",
        "When these do not hold, it produces poor estimates."
      ]
    },
    {
      "cell_type": "code",
      "execution_count": null,
      "id": "6aac5ac7",
      "metadata": {
        "id": "6aac5ac7"
      },
      "outputs": [],
      "source": [
        "class MicroscopeModel2(pxa.LinearOperator):\n",
        "    psf: jax.Array  # instrument point-spread function\n",
        "    weight: jax.Array  # pixel re-weighting function\n",
        "\n",
        "    def __init__(self, psf: npt.ArrayLike, weight: npt.DTypeLike):\n",
        "        self.dim_shape = pxu.ShapeStruct(psf.shape)\n",
        "        self.codim_shape = pxu.ShapeStruct(psf.shape)\n",
        "\n",
        "        self.psf = jnp.asarray(psf)\n",
        "        self.weight = jnp.asarray(weight)\n",
        "        assert self.psf.shape == self.weight.shape\n",
        "\n",
        "    def apply(self, x: jax.Array) -> jax.Array:\n",
        "        y = jax.scipy.signal.fftconvolve(x, self.psf, mode=\"same\")\n",
        "        z = self.weight * y\n",
        "        return z\n",
        "\n",
        "\n",
        "rng = np.random.default_rng()\n",
        "weight = rng.uniform(0, 1, psf.shape)\n",
        "model2 = MicroscopeModel2(psf, weight)\n",
        "\n",
        "# apply model + add shot noise\n",
        "img2 = random_noise(image=model2(img_gt), mode=\"poisson\").clip(0, None)\n",
        "\n",
        "u = model2.adjoint(img2)\n",
        "for i in range(100):\n",
        "    u_next = rl_step(u, img2, model2)\n",
        "    rel_err = pxo.L2Norm().apply(u_next - u) / pxo.L2Norm().apply(u)\n",
        "    u = u_next\n",
        "\n",
        "    if rel_err < 1e-3:\n",
        "        break\n",
        "img_rl2 = u\n",
        "\n",
        "\n",
        "fig, ax = plt.subplots(nrows=2, ncols=2, figsize=[10, 10])\n",
        "plot_image(ax[0, 0], img2, \"microscope image - model 2\")\n",
        "plot_image(ax[0, 1], img_rl, \"RL - model 1\")\n",
        "plot_image(ax[1, 0], img_rl2, f\"RL - model 2 ({i} iter)\")\n",
        "plot_image(ax[1, 1], img_gt, \"ground truth\")\n"
      ]
    },
    {
      "cell_type": "markdown",
      "id": "2d44a0d8-6361-4cbc-a616-3db3276d6756",
      "metadata": {
        "id": "2d44a0d8-6361-4cbc-a616-3db3276d6756"
      },
      "source": [
        "## Deconvolution 2: Least-Squares Method"
      ]
    },
    {
      "cell_type": "code",
      "execution_count": null,
      "id": "c3165444-7d93-47b8-8c45-790e385c91c0",
      "metadata": {
        "id": "c3165444-7d93-47b8-8c45-790e385c91c0"
      },
      "outputs": [],
      "source": [
        "img_lsq, diag = pxm.pinv(model2, img2, tau=0.1, rtol=1e-3, atol=1e-6, max_steps=30)  # Colab users: tau=0.1 may fail due to different linalg backend -> use tau=7\n",
        "fig, ax = plt.subplots(nrows=2, ncols=3, figsize=[20, 15])\n",
        "plot_image(ax[0, 0], img_gt, \"ground truth\")\n",
        "plot_image(ax[0, 1], img_rl, \"RL - model 1\")\n",
        "plot_image(ax[1, 0], img_rl2, f\"RL - model 2 ({i} iter)\")\n",
        "plot_image(ax[1, 1], img_lsq, \"LSQ - model 2\")\n",
        "ax[0, 2].axis(\"off\")\n",
        "plot_image(ax[1, 2], img2, \"microscope image - model 2\")"
      ]
    },
    {
      "cell_type": "markdown",
      "id": "b90244c6-f010-439b-9313-2457e0d11b56",
      "metadata": {
        "id": "b90244c6-f010-439b-9313-2457e0d11b56"
      },
      "source": [
        "## Deconvolution 3: Total Variation Method"
      ]
    },
    {
      "cell_type": "code",
      "execution_count": null,
      "id": "bb0e8a11-7003-4597-af37-f26b6b1aecf0",
      "metadata": {
        "id": "bb0e8a11-7003-4597-af37-f26b6b1aecf0"
      },
      "outputs": [],
      "source": [
        "def loss(x: jax.Array, data: jax.Array, model: MicroscopeModel, tv_scale: float):\n",
        "    # computes F(x, y) + \\lambda_{TV} * \\norm{x}_{TV}\n",
        "    sl2 = pxo.SquaredL2Norm()\n",
        "    data_loss = sl2(model.apply(x) - data)\n",
        "\n",
        "    # TV regularizer\n",
        "    grad_x, grad_y = jnp.gradient(x)\n",
        "    tv_norm = pxo.L1Norm().apply(grad_x) + pxo.L1Norm().apply(grad_y)\n",
        "    reg_loss = tv_scale * tv_norm\n",
        "\n",
        "    return data_loss + reg_loss\n",
        "\n",
        "tv_scale = 0.01\n",
        "\n",
        "solver = optax.adam(learning_rate=0.01)\n",
        "u = jnp.zeros_like(img2)\n",
        "opt_state = solver.init(u)\n",
        "for i in range(200):\n",
        "    grad = jax.grad(loss)(u, img2, model2, tv_scale)\n",
        "    updates, opt_state = solver.update(grad, opt_state, u)\n",
        "    u_next = optax.apply_updates(u, updates)\n",
        "\n",
        "    rel_err = pxo.L2Norm().apply(u_next - u) / pxo.L2Norm().apply(u)\n",
        "    u = u_next\n",
        "\n",
        "    # if i % 20 == 0:\n",
        "    #     print(f\"Objective function: {loss(u, img2, model2, tv_scale)}\")\n",
        "    #     print(f\"Relative error: {rel_err}\")\n",
        "\n",
        "    if rel_err < 1e-3:\n",
        "        break\n",
        "img_tv = u\n",
        "\n",
        "fig, ax = plt.subplots(nrows=2, ncols=3, figsize=[20, 15])\n",
        "plot_image(ax[0, 0], img_gt, \"ground truth\")\n",
        "plot_image(ax[0, 1], img2, \"microscope image - model 2\")\n",
        "plot_image(ax[1, 0], img_rl2, f\"RL - model 2\")\n",
        "plot_image(ax[1, 1], img_lsq, \"LSQ - model 2\")\n",
        "ax[0, 2].axis(\"off\")\n",
        "plot_image(ax[1, 2], img_tv, \"TV - model 2\")"
      ]
    },
    {
      "cell_type": "code",
      "source": [],
      "metadata": {
        "id": "SIaQXtHYctCD"
      },
      "id": "SIaQXtHYctCD",
      "execution_count": null,
      "outputs": []
    }
  ],
  "metadata": {
    "kernelspec": {
      "display_name": "Python 3 (ipykernel)",
      "language": "python",
      "name": "python3"
    },
    "language_info": {
      "codemirror_mode": {
        "name": "ipython",
        "version": 3
      },
      "file_extension": ".py",
      "mimetype": "text/x-python",
      "name": "python",
      "nbconvert_exporter": "python",
      "pygments_lexer": "ipython3",
      "version": "3.12.9"
    },
    "colab": {
      "provenance": [],
      "toc_visible": true
    }
  },
  "nbformat": 4,
  "nbformat_minor": 5
}